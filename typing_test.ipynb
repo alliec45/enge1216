{
 "cells": [
  {
   "cell_type": "code",
   "execution_count": 1,
   "metadata": {},
   "outputs": [],
   "source": [
    "# Necessary imports for typing test purposes.  \n",
    "# %pip install pyttsx3\n",
    "\n",
    "import pyttsx3\n",
    "import random"
   ]
  },
  {
   "cell_type": "code",
   "execution_count": 2,
   "metadata": {},
   "outputs": [],
   "source": [
    "wordbank = [\"serve\", \"bait\", \"friend\", \"fax\", \"yak\", \"admire\", \"bright\", \"dinner\", \"remind\", \"committee\", \"volleyball\", \"greedy\", \"twist\", \"greasy\", \"heady\", \"obey\", \n",
    "            \"mountain\", \"pray\", \"best\", \"bushes\", \"nasty\", \"energetic\", \"unbiased\", \"brash\", \"tremble\", \"charge\", \"graceful\", \"tie\", \"lively\", \"impolite\", \"abandoned\", \"repeat\", \"whole\", \n",
    "            \"hope\", \"pleasure\", \"flash\", \"suppose\", \"contain\", \"dirty\", \"cheat\", \"wander\", \"stop\", \"pick\", \"gullible\", \"offbeat\", \"better\", \"wrath\", \"painful\", \"thankful\", \"surprise\", \"ouch\", \n",
    "            \"brake\", \"acoustic\", \"haircut\", \"queen\", \"laughable\", \"apathetic\", \"stain\", \"shy\", \"afterthought\", \"time\", \"tax\", \"earthy\", \"gleaming\", \"crown\", \"invent\", \"history\", \"test\", \"diligent\", \n",
    "            \"gentle\", \"squeeze\", \"five\", \"lyric\", \"puffy\", \"game\", \"pine\", \"dogs\", \"tan\", \"domineering\", \"undress\", \"remain\", \"trains\", \"daily\", \"devilish\", \"hurt\", \"wheel\", \"sleepy\", \"exciting\", \n",
    "            \"awful\", \"guitar\", \"plate\", \"offend\", \"abrasive\", \"cake\", \"alleged\", \"x-ray\", \"payment\", \"productive\", \"value\", \"radiate\"]"
   ]
  },
  {
   "cell_type": "code",
   "execution_count": null,
   "metadata": {},
   "outputs": [],
   "source": [
    "engine = pyttsx3.init()\n",
    "score = 0\n",
    "\n",
    "for x in range(10):\n",
    "    next = wordbank.pop(random.randrange(100))\n",
    "    counter = 0\n",
    "\n",
    "    if (counter < 2):\n",
    "        output = input('Please type this word:' + next)\n",
    "\n",
    "        engine.setProperty('rate', 150)\n",
    "        engine.say('Please type this word: ' + next)\n",
    "\n",
    "        if (output == next):\n",
    "                score += 1\n",
    "                continue\n",
    "        else:\n",
    "                engine.setProperty('rate', 100)\n",
    "                engine.say('Please try again. You typed: ' + output)\n",
    "                counter += 1"
   ]
  },
  {
   "cell_type": "code",
   "execution_count": 6,
   "metadata": {},
   "outputs": [],
   "source": [
    "engine = pyttsx3.init()\n",
    "\n",
    "next = wordbank.pop(random.randrange(100))"
   ]
  },
  {
   "cell_type": "code",
   "execution_count": 7,
   "metadata": {},
   "outputs": [],
   "source": [
    "engine.setProperty('rate', 150)\n",
    "engine.say(\"Please type this word: \" + next)"
   ]
  },
  {
   "cell_type": "code",
   "execution_count": 4,
   "metadata": {},
   "outputs": [],
   "source": [
    "output = input(\"Please type this word: \" + next)\n",
    "output"
   ]
  }
 ],
 "metadata": {
  "kernelspec": {
   "display_name": "Python 3",
   "language": "python",
   "name": "python3"
  },
  "language_info": {
   "codemirror_mode": {
    "name": "ipython",
    "version": 3
   },
   "file_extension": ".py",
   "mimetype": "text/x-python",
   "name": "python",
   "nbconvert_exporter": "python",
   "pygments_lexer": "ipython3",
   "version": "3.9.8"
  }
 },
 "nbformat": 4,
 "nbformat_minor": 2
}
