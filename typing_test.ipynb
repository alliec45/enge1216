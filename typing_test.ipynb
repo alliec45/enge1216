{
 "cells": [
  {
   "cell_type": "code",
   "execution_count": 6,
   "metadata": {},
   "outputs": [],
   "source": [
    "# Necessary imports for typing test purposes.  \n",
    "# %pip install pyttsx3\n",
    "\n",
    "import pyttsx3\n",
    "import random"
   ]
  },
  {
   "cell_type": "code",
   "execution_count": 23,
   "metadata": {},
   "outputs": [],
   "source": [
    "wordbank = [\"serve\", \"brown\", \"friend\", \"fax\", \"lazy\", \"admire\", \"bright\", \"dinner\", \"remind\", \"committee\", \"volleyball\", \"greedy\", \"twist\", \"greasy\", \"fun\", \"object\", \n",
    "            \"mountain\", \"pasta\", \"best\", \"bushes\", \"nasty\", \"energetic\", \"unbiased\", \"brash\", \"tremble\", \"charge\", \"graceful\", \"tie\", \"lively\", \"impolite\", \"abandoned\", \"repeat\", \"whole\", \n",
    "            \"hope\", \"pleasure\", \"flash\", \"suppose\", \"contain\", \"dirty\", \"cheat\", \"wander\", \"stop\", \"pick\", \"gullible\", \"offbeat\", \"better\", \"wrath\", \"painful\", \"thankful\", \"surprise\", \"ouch\", \n",
    "            \"brake\", \"acoustic\", \"haircut\", \"queen\", \"laughable\", \"apathetic\", \"stain\", \"shy\", \"afterthought\", \"time\", \"tax\", \"earthy\", \"gleaming\", \"crown\", \"invent\", \"history\", \"test\", \"diligent\", \n",
    "            \"gentle\", \"squeeze\", \"five\", \"lyric\", \"puffy\", \"game\", \"pine\", \"dogs\", \"tan\", \"domineering\", \"undress\", \"remain\", \"trains\", \"daily\", \"devilish\", \"hurt\", \"wheel\", \"sleepy\", \"exciting\", \n",
    "            \"awful\", \"guitar\", \"post\", \"offend\", \"abrasive\", \"cake\", \"alleged\", \"x-ray\", \"payment\", \"productive\", \"value\", \"radiate\"]"
   ]
  },
  {
   "cell_type": "code",
   "execution_count": 24,
   "metadata": {},
   "outputs": [
    {
     "name": "stdout",
     "output_type": "stream",
     "text": [
      "Expected: friend \n",
      "Actual: friend \n",
      "Score: 1\n",
      "Expected: remind \n",
      "Actual: remind \n",
      "Score: 2\n",
      "Expected: graceful \n",
      "Actual: graceful \n",
      "Score: 3\n",
      "Expected: bait \n",
      "Actual: bathe \n",
      "Score: 3\n",
      "Expected: bait \n",
      "Actual: bait \n",
      "Score: 4\n",
      "Expected: hurt \n",
      "Actual: hurt \n",
      "Score: 5\n",
      "Expected: impolite \n",
      "Actual: impolite \n",
      "Score: 6\n",
      "Expected: earthy \n",
      "Actual: earthy \n",
      "Score: 7\n",
      "Expected: acoustic \n",
      "Actual: acoustic \n",
      "Score: 8\n",
      "Expected: payment \n",
      "Actual: payment \n",
      "Score: 9\n",
      "Expected: admire \n",
      "Actual: admire \n",
      "Score: 10\n",
      "Your final score was 10!\n"
     ]
    }
   ],
   "source": [
    "engine = pyttsx3.init()\n",
    "score = 0\n",
    "\n",
    "for x in range(10):\n",
    "        next = wordbank.pop(random.randrange(len(wordbank)))\n",
    "        counter = 0\n",
    "\n",
    "        engine.setProperty('rate', 150)\n",
    "        engine.setProperty('voice', 'neutral')\n",
    "\n",
    "        while (counter < 2):\n",
    "                engine.say('Please type this word: ' + next)\n",
    "                engine.runAndWait()\n",
    "\n",
    "                output = input('Please type this word: ' + next).replace(\" \", \"\").casefold()\n",
    "\n",
    "                if (output == next):\n",
    "                        score += 1\n",
    "                        counter += 2\n",
    "                elif (counter == 1): \n",
    "                        counter += 1\n",
    "                else:\n",
    "                        engine.setProperty('rate', 125)\n",
    "                        engine.say('Please try again. You typed: ' + output)\n",
    "                        engine.runAndWait()\n",
    "\n",
    "                        counter += 1\n",
    "                print(\"Expected: %s \\nActual: %s \\nScore: %s\" % (next, output, score))\n",
    "print(\"Your final score was %s!\" % score)"
   ]
  },
  {
   "cell_type": "code",
   "execution_count": 11,
   "metadata": {},
   "outputs": [
    {
     "data": {
      "text/plain": [
       "8"
      ]
     },
     "execution_count": 11,
     "metadata": {},
     "output_type": "execute_result"
    }
   ],
   "source": [
    "score"
   ]
  }
 ],
 "metadata": {
  "kernelspec": {
   "display_name": "Python 3",
   "language": "python",
   "name": "python3"
  },
  "language_info": {
   "codemirror_mode": {
    "name": "ipython",
    "version": 3
   },
   "file_extension": ".py",
   "mimetype": "text/x-python",
   "name": "python",
   "nbconvert_exporter": "python",
   "pygments_lexer": "ipython3",
   "version": "3.9.8"
  }
 },
 "nbformat": 4,
 "nbformat_minor": 2
}
