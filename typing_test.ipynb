{
 "cells": [
  {
   "cell_type": "code",
   "execution_count": 4,
   "metadata": {},
   "outputs": [],
   "source": [
    "# Necessary imports for typing test purposes.  \n",
    "\n",
    "import pyttsx3\n",
    "import random"
   ]
  },
  {
   "cell_type": "code",
   "execution_count": 5,
   "metadata": {},
   "outputs": [],
   "source": [
    "# Bank of words that the program will choose from. \n",
    "wordbank = [\"serve\", \"brown\", \"friend\", \"fax\", \"lazy\", \"admire\", \"bright\", \"dinner\", \"remind\", \"committee\", \"volleyball\", \"greedy\", \"twist\", \"greasy\", \"fun\", \"object\", \n",
    "            \"mountain\", \"pasta\", \"best\", \"bushes\", \"nasty\", \"energetic\", \"unbiased\", \"brash\", \"tremble\", \"charge\", \"graceful\", \"tie\", \"lively\", \"impolite\", \"abandoned\", \"repeat\", \"whole\", \n",
    "            \"hope\", \"pleasure\", \"flash\", \"suppose\", \"contain\", \"dirty\", \"cheat\", \"wander\", \"stop\", \"pick\", \"gullible\", \"offbeat\", \"better\", \"wrath\", \"painful\", \"thankful\", \"surprise\", \"ouch\", \n",
    "            \"brake\", \"acoustic\", \"haircut\", \"queen\", \"laugh\", \"apathetic\", \"stain\", \"shy\", \"afterthought\", \"time\", \"tax\", \"earthy\", \"gleaming\", \"crown\", \"invent\", \"history\", \"test\", \"diligent\", \n",
    "            \"gentle\", \"squeeze\", \"five\", \"lyric\", \"puffy\", \"game\", \"pine\", \"dogs\", \"tan\", \"dork\", \"undress\", \"remain\", \"trains\", \"daily\", \"devilish\", \"hurry\", \"wheel\", \"sleepy\", \"exciting\", \n",
    "            \"awful\", \"guitar\", \"post\", \"offend\", \"abrasive\", \"cake\", \"alleged\", \"x-ray\", \"payment\", \"productive\", \"value\", \"radiate\"]"
   ]
  },
  {
   "cell_type": "code",
   "execution_count": 7,
   "metadata": {},
   "outputs": [
    {
     "name": "stdout",
     "output_type": "stream",
     "text": [
      "Expected: invent \n",
      "Actual: invent \n",
      "Score: 1\n",
      "Expected: suppose \n",
      "Actual: suppose \n",
      "Score: 2\n",
      "Expected: x-ray \n",
      "Actual: x-ray \n",
      "Score: 3\n",
      "Your final score was 3/3!\n"
     ]
    }
   ],
   "source": [
    "# Initializes engine to 'say' the prompts out loud to the user. \n",
    "engine = pyttsx3.init()\n",
    "engine.setProperty('rate', 150)\n",
    "engine.setProperty('voice', 'neutral')\n",
    "\n",
    "# Asks how many words the user wants to test. Returns the default (10) if user selects a number greater than 100. \n",
    "engine.say('How many words would you like to type?')\n",
    "engine.runAndWait()\n",
    "\n",
    "num = int(input('How many words would you like to type?'))\n",
    "\n",
    "if (num > 100): \n",
    "        engine.say(('Sorry, 100 words is the maximum. Please input the number of words you would like to type.'))\n",
    "        engine.runAndWait()\n",
    "\n",
    "        num = int(input('Sorry, 100 words is the maximum. Please input the number of words you would like to type.'))\n",
    "\n",
    "if (num > 100):\n",
    "        num = 10\n",
    "\n",
    "# This loops 10 times to test the user with 10 different words. \n",
    "score = 0\n",
    "for x in range(num):\n",
    "        # Pulls a random word from the wordbank\n",
    "        next = wordbank.pop(random.randrange(len(wordbank)))\n",
    "        counter = 0\n",
    "\n",
    "        engine.setProperty('rate', 150)\n",
    "        engine.setProperty('voice', 'neutral')\n",
    "\n",
    "        # The user has two tries to type the word correctly, if they type the word incorrectly the first time. \n",
    "        while (counter < 2):\n",
    "                engine.say('Please type this word: ' + next)\n",
    "                engine.runAndWait()\n",
    "\n",
    "                # This takes the input from the user, normalizes it, and then compares it to the actual word. Adds points if the input is correct. \n",
    "                output = input('Please type this word: ' + next).replace(\" \", \"\").casefold()\n",
    "\n",
    "                if (output == next):\n",
    "                        score += 1\n",
    "                        counter += 2\n",
    "                elif (counter == 1): \n",
    "                        counter += 1\n",
    "                else:\n",
    "                        engine.setProperty('rate', 125)\n",
    "                        engine.say('Please try again. You typed: ' + output)\n",
    "                        engine.runAndWait()\n",
    "\n",
    "                        counter += 1\n",
    "                # Prints expected values, actual values, and current score after each attempt. \n",
    "                print(\"Expected: %s \\nActual: %s \\nScore: %s\" % (next, output, score))\n",
    "print(\"Your final score was %s/%s!\" % (score, num))"
   ]
  },
  {
   "cell_type": "code",
   "execution_count": 11,
   "metadata": {},
   "outputs": [
    {
     "data": {
      "text/plain": [
       "8"
      ]
     },
     "execution_count": 11,
     "metadata": {},
     "output_type": "execute_result"
    }
   ],
   "source": [
    "score"
   ]
  }
 ],
 "metadata": {
  "kernelspec": {
   "display_name": "Python 3",
   "language": "python",
   "name": "python3"
  },
  "language_info": {
   "codemirror_mode": {
    "name": "ipython",
    "version": 3
   },
   "file_extension": ".py",
   "mimetype": "text/x-python",
   "name": "python",
   "nbconvert_exporter": "python",
   "pygments_lexer": "ipython3",
   "version": "3.9.8"
  }
 },
 "nbformat": 4,
 "nbformat_minor": 2
}
