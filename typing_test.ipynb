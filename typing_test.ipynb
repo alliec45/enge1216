{
 "cells": [
  {
   "cell_type": "code",
   "execution_count": null,
   "metadata": {},
   "outputs": [],
   "source": [
    "# Necessary imports for typing test purposes.  \n",
    "# %pip install pyttsx3\n",
    "\n",
    "import pyttsx3"
   ]
  },
  {
   "cell_type": "code",
   "execution_count": 4,
   "metadata": {},
   "outputs": [],
   "source": [
    "# List array = new ArrayList<String>();\n",
    "\n",
    "# int score = 0;\n",
    "\n",
    "# for (int i = 0; i < 20; i++) {\n",
    "# String next = array.remove(random.nextInt(100));\n",
    "\n",
    "# int counter = 0;\n",
    "\n",
    "# if (counter < 2) {\n",
    "# String output = input('Please type this word:' + next);\n",
    "# engine.setProperty('rate, 200)\n",
    "# engine.say('Please type this word:' + next)\n",
    "# \tif (output == next) {\n",
    "# \t\tscore++;\n",
    "# \t}\n",
    "# \telse {\n",
    "#       engine.setProperty('rate', 125)\n",
    "# \t\tengine.say('Please try again. You typed:' + output);\n",
    "# \t\tcounter++;\n",
    "# \t}\n",
    "# }\n",
    "\n",
    "engine = pyttsx3.init()\n",
    "engine.say(\"I will speak this text\")\n",
    "engine.runAndWait()\n"
   ]
  },
  {
   "cell_type": "code",
   "execution_count": 5,
   "metadata": {},
   "outputs": [
    {
     "data": {
      "text/plain": [
       "200"
      ]
     },
     "execution_count": 5,
     "metadata": {},
     "output_type": "execute_result"
    }
   ],
   "source": [
    "engine.getProperty('rate')"
   ]
  }
 ],
 "metadata": {
  "kernelspec": {
   "display_name": "Python 3",
   "language": "python",
   "name": "python3"
  },
  "language_info": {
   "codemirror_mode": {
    "name": "ipython",
    "version": 3
   },
   "file_extension": ".py",
   "mimetype": "text/x-python",
   "name": "python",
   "nbconvert_exporter": "python",
   "pygments_lexer": "ipython3",
   "version": "3.9.8"
  }
 },
 "nbformat": 4,
 "nbformat_minor": 2
}
